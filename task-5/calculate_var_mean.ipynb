{
 "cells": [
  {
   "cell_type": "markdown",
   "metadata": {},
   "source": [
    "# Calculate Variance and Mean of dataset\n",
    "\n",
    "Script to calculate the var and mean of the dataset for normalization during training/inference"
   ]
  },
  {
   "cell_type": "code",
   "execution_count": null,
   "metadata": {},
   "outputs": [],
   "source": [
    "from PIL import Image\n",
    "import jax\n",
    "import jax.numpy as jnp\n",
    "import os\n",
    "from tqdm.auto import tqdm"
   ]
  },
  {
   "cell_type": "code",
   "execution_count": null,
   "metadata": {},
   "outputs": [],
   "source": [
    "files = [os.path.join(folder, f) for folder in os.listdir('data/train') if os.path.isdir(f'data/train/{folder}') for f in os.listdir(f'data/train/{folder}')]"
   ]
  },
  {
   "cell_type": "code",
   "execution_count": null,
   "metadata": {},
   "outputs": [],
   "source": [
    "running_mean = 0.\n",
    "\n",
    "for f in tqdm(files):\n",
    "\timage = Image.open('data/train/' + f)\n",
    "\tif image.size != (800, 974):\n",
    "\t\tprint(f)\n",
    "\n",
    "\timage = jnp.array(image) / 255\n",
    "\trunning_mean += image.mean()\n",
    "\n",
    "running_mean /= len(files)\n",
    "print('mean:', running_mean)"
   ]
  },
  {
   "cell_type": "code",
   "execution_count": null,
   "metadata": {},
   "outputs": [],
   "source": [
    "running_var = 0.\n",
    "\n",
    "for f in tqdm(files):\n",
    "\timage = Image.open('data/train/' + f)\n",
    "\timage = jnp.array(image) / 255\n",
    "\trunning_var += ((image - running_mean) ** 2).mean()\n",
    "\n",
    "running_var /= len(files)\n",
    "print('var:', running_var)"
   ]
  }
 ],
 "metadata": {
  "kernelspec": {
   "display_name": "venv",
   "language": "python",
   "name": "python3"
  },
  "language_info": {
   "name": "python",
   "version": "3.12.4"
  }
 },
 "nbformat": 4,
 "nbformat_minor": 2
}
