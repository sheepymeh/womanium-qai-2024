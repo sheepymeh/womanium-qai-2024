{
 "cells": [
  {
   "cell_type": "markdown",
   "metadata": {},
   "source": [
    "# Task 1"
   ]
  },
  {
   "cell_type": "code",
   "execution_count": null,
   "metadata": {},
   "outputs": [],
   "source": [
    "import numpy as np\n",
    "import pennylane as qml"
   ]
  },
  {
   "cell_type": "markdown",
   "metadata": {},
   "source": [
    "## Introduction to Quantum Computing"
   ]
  },
  {
   "cell_type": "markdown",
   "metadata": {},
   "source": [
    "### All about Qubits\n",
    "\n",
    "This was an introduction to how qubits are different from classical bits and how they can be represented."
   ]
  },
  {
   "cell_type": "markdown",
   "metadata": {},
   "source": [
    "#### Codercise I.1.1\n",
    "\n",
    "Here, we calculate the normalized form of a state by calculating the total magnitude of $\\alpha$ and $\\beta$. For an imaginary number, the magnitude is $\\left| x \\right| = \\sqrt{x * \\bar{x}}$. Then, we divide $\\alpha$ and $\\beta$ by the magnitude."
   ]
  },
  {
   "cell_type": "code",
   "execution_count": null,
   "metadata": {},
   "outputs": [],
   "source": [
    "# Here are the vector representations of |0> and |1>, for convenience\n",
    "ket_0 = np.array([1, 0])\n",
    "ket_1 = np.array([0, 1])\n",
    "\n",
    "\n",
    "def normalize_state(alpha, beta):\n",
    "    \"\"\"Compute a normalized quantum state given arbitrary amplitudes.\n",
    "\n",
    "    Args:\n",
    "        alpha (complex): The amplitude associated with the |0> state.\n",
    "        beta (complex): The amplitude associated with the |1> state.\n",
    "\n",
    "    Returns:\n",
    "        np.array[complex]: A vector (numpy array) with 2 elements that represents\n",
    "        a normalized quantum state.\n",
    "    \"\"\"\n",
    "\n",
    "    # CREATE A VECTOR [a', b'] BASED ON alpha AND beta SUCH THAT |a'|^2 + |b'|^2 = 1\n",
    "    total = alpha * np.conj(alpha) + beta * np.conj(beta)\n",
    "    vector = np.array([alpha/np.sqrt(total), beta/np.sqrt(total)])\n",
    "    # RETURN A VECTOR\n",
    "    return vector"
   ]
  },
  {
   "cell_type": "markdown",
   "metadata": {},
   "source": [
    "#### Codercise I.1.2\n",
    "\n",
    "The inner product is:\n",
    "\n",
    "$$\\braket{\\alpha|\\beta} = \\bar{\\alpha} \\cdot \\beta$$\n",
    "\n",
    "We can verify that $\\ket{0}$ and $\\ket{1}$ are orthonormal as $\\braket{0|1} = 0$."
   ]
  },
  {
   "cell_type": "code",
   "execution_count": null,
   "metadata": {},
   "outputs": [],
   "source": [
    "def inner_product(state_1, state_2):\n",
    "    \"\"\"Compute the inner product between two states.\n",
    "\n",
    "    Args:\n",
    "        state_1 (np.array[complex]): A normalized quantum state vector\n",
    "        state_2 (np.array[complex]): A second normalized quantum state vector\n",
    "\n",
    "    Returns:\n",
    "        complex: The value of the inner product <state_1 | state_2>.\n",
    "    \"\"\"\n",
    "\n",
    "    # COMPUTE AND RETURN THE INNER PRODUCT\n",
    "    inner_product = np.dot(np.conj(state_1), state_2)\n",
    "\n",
    "    return inner_product\n",
    "\n",
    "\n",
    "# Test your results with this code\n",
    "ket_0 = np.array([1, 0])\n",
    "ket_1 = np.array([0, 1])\n",
    "\n",
    "print(f\"<0|0> = {inner_product(ket_0, ket_0)}\")\n",
    "print(f\"<0|1> = {inner_product(ket_0, ket_1)}\")\n",
    "print(f\"<1|0> = {inner_product(ket_1, ket_0)}\")\n",
    "print(f\"<1|1\\rangle = {inner_product(ket_1, ket_1)}\")"
   ]
  },
  {
   "cell_type": "markdown",
   "metadata": {},
   "source": [
    "#### Codercise I.1.3\n",
    "\n",
    "We first calculate the probability that the value is 0 by taking the magnitude of $\\ket{0}$ (we use `np.abs(x) ** 2` in place of `np.conj(x) * x`). Then, we use the `np.random.choice` function to sample between 0 and 1."
   ]
  },
  {
   "cell_type": "code",
   "execution_count": null,
   "metadata": {},
   "outputs": [],
   "source": [
    "def measure_state(state, num_meas):\n",
    "    \"\"\"Simulate a quantum measurement process.\n",
    "\n",
    "    Args:\n",
    "        state (np.array[complex]): A normalized qubit state vector.\n",
    "        num_meas (int): The number of measurements to take\n",
    "\n",
    "    Returns:\n",
    "        np.array[int]: A set of num_meas samples, 0 or 1, chosen according to the probability\n",
    "        distribution defined by the input state.\n",
    "    \"\"\"\n",
    "\n",
    "    # COMPUTE THE MEASUREMENT OUTCOME PROBABILITIES\n",
    "    prob_0 = np.abs(state[0]) ** 2\n",
    "\n",
    "    # RETURN A LIST OF SAMPLE MEASUREMENT OUTCOMES\n",
    "    outcomes = np.random.choice(2, num_meas, p=[prob_0, 1 - prob_0])\n",
    "\n",
    "    return outcomes"
   ]
  },
  {
   "cell_type": "markdown",
   "metadata": {},
   "source": [
    "#### Codercise I.1.4\n",
    "\n",
    "We simply apply the matrix multiplication $U\\ket{\\psi}$."
   ]
  },
  {
   "cell_type": "code",
   "execution_count": null,
   "metadata": {},
   "outputs": [],
   "source": [
    "U = np.array([[1, 1], [1, -1]]) / np.sqrt(2)\n",
    "\n",
    "\n",
    "def apply_u(state):\n",
    "    \"\"\"Apply a quantum operation.\n",
    "\n",
    "    Args:\n",
    "        state (np.array[complex]): A normalized quantum state vector.\n",
    "\n",
    "    Returns:\n",
    "        np.array[complex]: The output state after applying U.\n",
    "    \"\"\"\n",
    "\n",
    "    new_state = U @ state\n",
    "\n",
    "    # APPLY U TO THE INPUT STATE AND RETURN THE NEW STATE\n",
    "    return new_state"
   ]
  },
  {
   "cell_type": "markdown",
   "metadata": {},
   "source": [
    "#### Codercise I.1.5\n",
    "\n",
    "We combine the three functions by initializing the state, applying $U$, and measuring 100 times."
   ]
  },
  {
   "cell_type": "code",
   "execution_count": null,
   "metadata": {},
   "outputs": [],
   "source": [
    "U = np.array([[1, 1], [1, -1]]) / np.sqrt(2)\n",
    "\n",
    "\n",
    "def initialize_state():\n",
    "    \"\"\"Prepare a qubit in state |0>.\n",
    "\n",
    "    Returns:\n",
    "        np.array[float]: the vector representation of state |0>.\n",
    "    \"\"\"\n",
    "\n",
    "    # PREPARE THE STATE |0>\n",
    "    state = np.array([1, 0])\n",
    "\n",
    "    return state\n",
    "\n",
    "\n",
    "def apply_u(state):\n",
    "    \"\"\"Apply a quantum operation.\"\"\"\n",
    "    return np.dot(U, state)\n",
    "\n",
    "\n",
    "def measure_state(state, num_meas):\n",
    "    \"\"\"Measure a quantum state num_meas times.\"\"\"\n",
    "    p_alpha = np.abs(state[0]) ** 2\n",
    "    p_beta = np.abs(state[1]) ** 2\n",
    "    meas_outcome = np.random.choice([0, 1], p=[p_alpha, p_beta], size=num_meas)\n",
    "    return meas_outcome\n",
    "\n",
    "\n",
    "def quantum_algorithm():\n",
    "    \"\"\"Use the functions above to implement the quantum algorithm described above.\n",
    "\n",
    "    Try and do so using three lines of code or less!\n",
    "\n",
    "    Returns:\n",
    "        np.array[int]: the measurement results after running the algorithm 100 times\n",
    "    \"\"\"\n",
    "\n",
    "    # PREPARE THE STATE, APPLY U, THEN TAKE 100 MEASUREMENT SAMPLES\n",
    "    state = initialize_state()\n",
    "    new_state = apply_u(state)\n",
    "    outcomes = measure_state(new_state, 100)\n",
    "\n",
    "    return outcomes"
   ]
  },
  {
   "cell_type": "markdown",
   "metadata": {},
   "source": [
    "### Quantum Circuits\n",
    "\n",
    "In this chapter, we learn how quantum algorithms are represented in diagrams and in code using Pennylane."
   ]
  },
  {
   "cell_type": "markdown",
   "metadata": {},
   "source": [
    "#### Codercise I.2.1"
   ]
  },
  {
   "cell_type": "code",
   "execution_count": null,
   "metadata": {},
   "outputs": [],
   "source": [
    "def my_circuit(theta, phi):\n",
    "    # REORDER THESE 5 GATES TO MATCH THE CIRCUIT IN THE PICTURE\n",
    "\n",
    "    qml.CNOT(wires=[0, 1])\n",
    "    qml.RX(theta, wires=2)\n",
    "    qml.Hadamard(wires=0)\n",
    "    qml.CNOT(wires=[2, 0])\n",
    "    qml.RY(phi, wires=1)\n",
    "\n",
    "    # This is the measurement; we return the probabilities of all possible output states\n",
    "    # You'll learn more about what types of measurements are available in a later node\n",
    "    return qml.probs(wires=[0, 1, 2])"
   ]
  },
  {
   "cell_type": "markdown",
   "metadata": {},
   "source": [
    "#### Codercise I.2.2\n",
    "\n",
    "We implement the QNode according to the diagram provided."
   ]
  },
  {
   "cell_type": "code",
   "execution_count": null,
   "metadata": {},
   "outputs": [],
   "source": [
    "# This creates a device with three wires on which PennyLane can run computations\n",
    "dev = qml.device(\"default.qubit\", wires=3)\n",
    "\n",
    "\n",
    "def my_circuit(theta, phi, omega):\n",
    "    # IMPLEMENT THE CIRCUIT BY ADDING THE GATES\n",
    "\n",
    "    qml.RX(theta, wires=0)\n",
    "    qml.RY(phi, wires=1)\n",
    "    qml.RZ(omega, wires=2)\n",
    "    qml.CNOT(wires=[0, 1])\n",
    "    qml.CNOT(wires=[1, 2])\n",
    "    qml.CNOT(wires=[2, 0])\n",
    "\n",
    "    # Here are two examples, so you can see the format:\n",
    "    # qml.CNOT(wires=[0, 1])\n",
    "    # qml.RX(theta, wires=0)\n",
    "\n",
    "    return qml.probs(wires=[0, 1, 2])\n",
    "\n",
    "\n",
    "# This creates a QNode, binding the function and device\n",
    "my_qnode = qml.QNode(my_circuit, dev)\n",
    "\n",
    "# We set up some values for the input parameters\n",
    "theta, phi, omega = 0.1, 0.2, 0.3\n",
    "\n",
    "# Now we can execute the QNode by calling it like we would a regular function\n",
    "my_qnode(theta, phi, omega)"
   ]
  },
  {
   "cell_type": "markdown",
   "metadata": {},
   "source": [
    "#### Codercise I.2.3\n",
    "\n",
    "We re-implement the circuit in I.2.2 using the `@qml.qnode` decorator, which makes the code more readable."
   ]
  },
  {
   "cell_type": "code",
   "execution_count": null,
   "metadata": {},
   "outputs": [],
   "source": [
    "dev = qml.device(\"default.qubit\", wires=3)\n",
    "\n",
    "# DECORATE THE FUNCTION BELOW TO TURN IT INTO A QNODE\n",
    "@qml.qnode(dev)\n",
    "def my_circuit(theta, phi, omega):\n",
    "    qml.RX(theta, wires=0)\n",
    "    qml.RY(phi, wires=1)\n",
    "    qml.RZ(omega, wires=2)\n",
    "    qml.CNOT(wires=[0, 1])\n",
    "    qml.CNOT(wires=[1, 2])\n",
    "    qml.CNOT(wires=[2, 0])\n",
    "    return qml.probs(wires=[0, 1, 2])\n",
    "\n",
    "\n",
    "theta, phi, omega = 0.1, 0.2, 0.3\n",
    "\n",
    "# RUN THE QNODE WITH THE PROVIDED PARAMETERS\n",
    "my_circuit(theta, phi, omega)\n"
   ]
  },
  {
   "cell_type": "markdown",
   "metadata": {},
   "source": [
    "#### Codercise I.2.4\n",
    "\n",
    "Through the diagram, it is trivial to see that the depth is 4."
   ]
  },
  {
   "cell_type": "code",
   "execution_count": null,
   "metadata": {},
   "outputs": [],
   "source": [
    "dev = qml.device(\"default.qubit\", wires=3)\n",
    "\n",
    "\n",
    "@qml.qnode(dev)\n",
    "def my_circuit(theta, phi, omega):\n",
    "    qml.RX(theta, wires=0)\n",
    "    qml.RY(phi, wires=1)\n",
    "    qml.RZ(omega, wires=2)\n",
    "    qml.CNOT(wires=[0, 1])\n",
    "    qml.CNOT(wires=[1, 2])\n",
    "    qml.CNOT(wires=[2, 0])\n",
    "    return qml.probs(wires=[0, 1, 2])\n",
    "\n",
    "# FILL IN THE CORRECT CIRCUIT DEPTH\n",
    "depth = 4"
   ]
  },
  {
   "cell_type": "markdown",
   "metadata": {},
   "source": [
    "### Unitary Matrices\n",
    "\n",
    "This chapter introduces unitary matrices, which preserve the normalization of the quantum state. We also see how they can be parameterized, which allows them to be expressed with just 3 real numbers, $\\phi$, $\\omega$, and $\\theta$."
   ]
  },
  {
   "cell_type": "markdown",
   "metadata": {},
   "source": [
    "#### Codercise I.3.1"
   ]
  },
  {
   "cell_type": "code",
   "execution_count": null,
   "metadata": {},
   "outputs": [],
   "source": [
    "dev = qml.device(\"default.qubit\", wires=1)\n",
    "\n",
    "U = np.array([[1, 1], [1, -1]]) / np.sqrt(2)\n",
    "\n",
    "\n",
    "@qml.qnode(dev)\n",
    "def apply_u():\n",
    "    # USE QubitUnitary TO APPLY U TO THE QUBIT\n",
    "    qml.QubitUnitary(U, wires=0)\n",
    "\n",
    "    # Return the state\n",
    "    return qml.state()"
   ]
  },
  {
   "cell_type": "markdown",
   "metadata": {},
   "source": [
    "#### Codercise I.3.2"
   ]
  },
  {
   "cell_type": "code",
   "execution_count": null,
   "metadata": {},
   "outputs": [],
   "source": [
    "dev = qml.device(\"default.qubit\", wires=1)\n",
    "\n",
    "\n",
    "@qml.qnode(dev)\n",
    "def apply_u_as_rot(phi, theta, omega):\n",
    "    # APPLY A ROT GATE USING THE PROVIDED INPUT PARAMETERS\n",
    "    qml.Rot(phi, theta, omega, wires=0)\n",
    "\n",
    "    # RETURN THE QUANTUM STATE VECTOR\n",
    "    return qml.state()"
   ]
  },
  {
   "cell_type": "markdown",
   "metadata": {},
   "source": [
    "## Single-Qubit Gates"
   ]
  },
  {
   "cell_type": "markdown",
   "metadata": {},
   "source": [
    "### Just X and H\n",
    "\n",
    "This chapter shows us how quantum operations are executed on the basis states using the linear nature of the matrix-vector multiplication. It also introduces the $X$ and $H$ gates."
   ]
  },
  {
   "cell_type": "markdown",
   "metadata": {},
   "source": [
    "#### Codercise I.4.1\n",
    "\n",
    "We can use the $X$ gate to change $\\ket{0}$ to $\\ket{1}$ where needed, then use `QubitUnitary` to apply an abitrary unitary matrix to the state."
   ]
  },
  {
   "cell_type": "code",
   "execution_count": null,
   "metadata": {},
   "outputs": [],
   "source": [
    "dev = qml.device(\"default.qubit\", wires=1)\n",
    "\n",
    "U = np.array([[1, 1], [1, -1]]) / np.sqrt(2)\n",
    "\n",
    "\n",
    "@qml.qnode(dev)\n",
    "def varied_initial_state(state):\n",
    "    \"\"\"Complete the function such that we can apply the operation U to\n",
    "    either |0> or |1> depending on the input argument flag.\n",
    "\n",
    "    Args:\n",
    "        state (int): Either 0 or 1. If 1, prepare the qubit in state |1>,\n",
    "            otherwise, leave it in state 0.\n",
    "\n",
    "    Returns:\n",
    "        np.array[complex]: The state of the qubit after the operations.\n",
    "    \"\"\"\n",
    "\n",
    "    # KEEP THE QUBIT IN |0> OR CHANGE IT TO |1> DEPENDING ON THE state PARAMETER\n",
    "    if state == 1:\n",
    "        qml.PauliX(wires=0)\n",
    "\n",
    "    # APPLY U TO THE STATE\n",
    "    qml.QubitUnitary(U, wires=0)\n",
    "\n",
    "    return qml.state()"
   ]
  },
  {
   "cell_type": "markdown",
   "metadata": {},
   "source": [
    "#### Codercise I.4.2"
   ]
  },
  {
   "cell_type": "code",
   "execution_count": null,
   "metadata": {},
   "outputs": [],
   "source": [
    "dev = qml.device(\"default.qubit\", wires=1)\n",
    "\n",
    "\n",
    "@qml.qnode(dev)\n",
    "def apply_hadamard():\n",
    "    # APPLY THE HADAMARD GATE\n",
    "    qml.Hadamard(wires=0)\n",
    "\n",
    "    # RETURN THE STATE\n",
    "    return qml.state()"
   ]
  },
  {
   "cell_type": "markdown",
   "metadata": {},
   "source": [
    "#### Codercise I.4.3\n",
    "\n",
    "We combine the previous two codercises to apply the $H$ gate on either the $\\ket{0}$ or $\\ket{1}$ gate. We can see that the inner product of $H\\ket{0}$ and $H\\ket{1}$ is $0$, showing that they are orthonormal."
   ]
  },
  {
   "cell_type": "code",
   "execution_count": null,
   "metadata": {},
   "outputs": [],
   "source": [
    "dev = qml.device(\"default.qubit\", wires=1)\n",
    "\n",
    "\n",
    "@qml.qnode(dev)\n",
    "def apply_hadamard_to_state(state):\n",
    "    \"\"\"Complete the function such that we can apply the Hadamard to\n",
    "    either |0> or |1> depending on the input argument flag.\n",
    "\n",
    "    Args:\n",
    "        state (int): Either 0 or 1. If 1, prepare the qubit in state |1>,\n",
    "            otherwise, leave it in state 0.\n",
    "\n",
    "    Returns:\n",
    "        np.array[complex]: The state of the qubit after the operations.\n",
    "    \"\"\"\n",
    "\n",
    "    # KEEP THE QUBIT IN |0> OR CHANGE IT TO |1> DEPENDING ON state\n",
    "    if state == 1:\n",
    "        qml.PauliX(wires=0)\n",
    "\n",
    "    # APPLY THE HADAMARD\n",
    "    qml.Hadamard(wires=0)\n",
    "\n",
    "    # RETURN THE STATE\n",
    "    return qml.state()\n",
    "\n",
    "\n",
    "print(apply_hadamard_to_state(0))\n",
    "print(apply_hadamard_to_state(1))\n",
    "print(np.dot(\n",
    "    apply_hadamard_to_state(0),\n",
    "    apply_hadamard_to_state(1),\n",
    "))"
   ]
  },
  {
   "cell_type": "markdown",
   "metadata": {},
   "source": [
    "#### Codercise I.4.4\n",
    "\n",
    "We create a device, change the state where necessary using the $X$ gate, then apply the $H$, $X$, and $H$ gates sequentially. We notice that $\\ket{0}$ is transformed to $\\ket{0}$ while $\\ket{1}$ is transformed to $-1 * \\ket{1}$."
   ]
  },
  {
   "cell_type": "code",
   "execution_count": null,
   "metadata": {},
   "outputs": [],
   "source": [
    "# CREATE A DEVICE\n",
    "dev = qml.device(\"default.qubit\", wires=1)\n",
    "\n",
    "# CREATE A QNODE CALLED apply_hxh THAT APPLIES THE CIRCUIT ABOVE\n",
    "@qml.qnode(dev)\n",
    "def apply_hxh(state):\n",
    "    if state == 1:\n",
    "        qml.PauliX(wires=0)\n",
    "\n",
    "    qml.Hadamard(wires=0)\n",
    "    qml.PauliX(wires=0)\n",
    "    qml.Hadamard(wires=0)\n",
    "\n",
    "    return qml.state()\n",
    "\n",
    "# Print your results\n",
    "print(apply_hxh(0))\n",
    "print(apply_hxh(1))"
   ]
  },
  {
   "cell_type": "markdown",
   "metadata": {},
   "source": [
    "### It's Just a Phase\n",
    "\n",
    "This chapter introduces the global and relative phase between states. It also introduces two new gates - $Z$ and $R_Z$ (a parametric gate), and $S$ and $T$, which are special cases of the $R_Z$ gate."
   ]
  },
  {
   "cell_type": "markdown",
   "metadata": {},
   "source": [
    "#### Codercise I.5.1\n",
    "\n",
    "We simply use `qml.Z` to apply the gate after using the $H$ gate to create the $\\ket{+}$ state. We note that $Z\\ket{+}$ returns the $\\ket{-}$ state, and that the behavior of the $Z$ gate was implemented in codercise I.4.4 using the $HXH$ circuit."
   ]
  },
  {
   "cell_type": "code",
   "execution_count": null,
   "metadata": {},
   "outputs": [],
   "source": [
    "dev = qml.device(\"default.qubit\", wires=1)\n",
    "\n",
    "\n",
    "@qml.qnode(dev)\n",
    "def apply_z_to_plus():\n",
    "    \"\"\"Write a circuit that applies PauliZ to the |+> state and returns\n",
    "    the state.\n",
    "\n",
    "    Returns:\n",
    "        np.array[complex]: The state of the qubit after the operations.\n",
    "    \"\"\"\n",
    "\n",
    "    # CREATE THE |+> STATE\n",
    "    qml.Hadamard(wires=0)\n",
    "\n",
    "    # APPLY PAULI Z\n",
    "    qml.PauliZ(wires=0)\n",
    "\n",
    "    # RETURN THE STATE\n",
    "    return qml.state()\n",
    "\n",
    "\n",
    "print(apply_z_to_plus())"
   ]
  },
  {
   "cell_type": "markdown",
   "metadata": {},
   "source": [
    "#### Codercise I.5.2\n",
    "\n",
    "The $Z$ gate is a special case of the $R_Z$ gate where $\\omega = \\pi$. We use `qml.RZ` to apply the gate after using the $H$ gate to create the `\\ket{+}` state.\n"
   ]
  },
  {
   "cell_type": "code",
   "execution_count": null,
   "metadata": {},
   "outputs": [],
   "source": [
    "dev = qml.device(\"default.qubit\", wires=1)\n",
    "\n",
    "\n",
    "@qml.qnode(dev)\n",
    "def fake_z():\n",
    "    \"\"\"Use RZ to produce the same action as Pauli Z on the |+> state.\n",
    "\n",
    "    Returns:\n",
    "        np.array[complex]: The state of the qubit after the operations.\n",
    "    \"\"\"\n",
    "\n",
    "    # CREATE THE |+> STATE\n",
    "    qml.Hadamard(wires=0)\n",
    "\n",
    "    # APPLY RZ\n",
    "    qml.RZ(np.pi, wires=0)\n",
    "\n",
    "    # RETURN THE STATE\n",
    "    return qml.state()"
   ]
  },
  {
   "cell_type": "markdown",
   "metadata": {},
   "source": [
    "#### Codercise I.5.3\n",
    "\n",
    "We implement the circuit as shown in the diagram and using the `qml.adjoint` function where needed."
   ]
  },
  {
   "cell_type": "code",
   "execution_count": null,
   "metadata": {},
   "outputs": [],
   "source": [
    "dev = qml.device(\"default.qubit\", wires=1)\n",
    "\n",
    "\n",
    "@qml.qnode(dev)\n",
    "def many_rotations():\n",
    "    \"\"\"Implement the circuit depicted above and return the quantum state.\n",
    "\n",
    "    Returns:\n",
    "        np.array[complex]: The state of the qubit after the operations.\n",
    "    \"\"\"\n",
    "\n",
    "    # IMPLEMENT THE CIRCUIT\n",
    "    qml.Hadamard(wires=0)\n",
    "    qml.S(wires=0)\n",
    "    qml.adjoint(qml.T)(wires=0)\n",
    "    qml.RZ(0.3, wires=0)\n",
    "    qml.adjoint(qml.S)(wires=0)\n",
    "\n",
    "    # RETURN THE STATE\n",
    "    return qml.state()"
   ]
  },
  {
   "cell_type": "markdown",
   "metadata": {},
   "source": [
    "### From a Different Angle\n",
    "\n",
    "This chapter introduces the Bloch sphere, which helps to represent the quantum states. It also introduces the $R_X$ and $R_Y$ gates, which rotate the state along the $X$ and $Y$ axes respectively, and the special cases of the $X$ and $Y$ gates."
   ]
  },
  {
   "cell_type": "markdown",
   "metadata": {},
   "source": [
    "#### Codercise I.6.1\n",
    "\n",
    "We implement an $R_X$ gate that with a parameter of $\\pi$, which is the same as the $X$ gate."
   ]
  },
  {
   "cell_type": "code",
   "execution_count": null,
   "metadata": {},
   "outputs": [],
   "source": [
    "dev = qml.device(\"default.qubit\", wires=1)\n",
    "\n",
    "\n",
    "@qml.qnode(dev)\n",
    "def apply_rx_pi(state):\n",
    "    \"\"\"Apply an RX gate with an angle of \\pi to a particular basis state.\n",
    "\n",
    "    Args:\n",
    "        state (int): Either 0 or 1. If 1, initialize the qubit to state |1>\n",
    "            before applying other operations.\n",
    "\n",
    "    Returns:\n",
    "        np.array[complex]: The state of the qubit after the operations.\n",
    "    \"\"\"\n",
    "    if state == 1:\n",
    "        qml.PauliX(wires=0)\n",
    "\n",
    "    # APPLY RX(pi) AND RETURN THE STATE\n",
    "    qml.RX(np.pi, wires=0)\n",
    "\n",
    "    return qml.state()\n",
    "\n",
    "\n",
    "print(apply_rx_pi(0))\n",
    "print(apply_rx_pi(1))"
   ]
  },
  {
   "cell_type": "markdown",
   "metadata": {},
   "source": [
    "#### Codercise I.6.2\n",
    "\n",
    "We plot the $R_X$ function across a range of $\\theta$."
   ]
  },
  {
   "cell_type": "code",
   "execution_count": null,
   "metadata": {},
   "outputs": [],
   "source": [
    "dev = qml.device(\"default.qubit\", wires=1)\n",
    "\n",
    "\n",
    "@qml.qnode(dev)\n",
    "def apply_rx(theta, state):\n",
    "    \"\"\"Apply an RX gate with an angle of theta to a particular basis state.\n",
    "\n",
    "    Args:\n",
    "        theta (float): A rotation angle.\n",
    "        state (int): Either 0 or 1. If 1, initialize the qubit to state |1>\n",
    "            before applying other operations.\n",
    "\n",
    "    Returns:\n",
    "        np.array[complex]: The state of the qubit after the operations.\n",
    "    \"\"\"\n",
    "    if state == 1:\n",
    "        qml.PauliX(wires=0)\n",
    "\n",
    "    # APPLY RX(theta) AND RETURN THE STATE\n",
    "    qml.RX(theta, wires=0)\n",
    "\n",
    "    return qml.state()\n",
    "\n",
    "\n",
    "# Code for plotting\n",
    "angles = np.linspace(0, 4 * np.pi, 200)\n",
    "output_states = np.array([apply_rx(t, 0) for t in angles])\n",
    "\n",
    "plot = plotter(angles, output_states)"
   ]
  },
  {
   "cell_type": "markdown",
   "metadata": {},
   "source": [
    "#### Codercise I.6.3\n",
    "\n",
    "We plot the $R_Y$ function across a range of $\\theta$."
   ]
  },
  {
   "cell_type": "code",
   "execution_count": null,
   "metadata": {},
   "outputs": [],
   "source": [
    "dev = qml.device(\"default.qubit\", wires=1)\n",
    "\n",
    "\n",
    "@qml.qnode(dev)\n",
    "def apply_ry(theta, state):\n",
    "    \"\"\"Apply an RY gate with an angle of theta to a particular basis state.\n",
    "\n",
    "    Args:\n",
    "        theta (float): A rotation angle.\n",
    "        state (int): Either 0 or 1. If 1, initialize the qubit to state |1>\n",
    "            before applying other operations.\n",
    "\n",
    "    Returns:\n",
    "        np.array[complex]: The state of the qubit after the operations.\n",
    "    \"\"\"\n",
    "    if state == 1:\n",
    "        qml.PauliX(wires=0)\n",
    "\n",
    "    # APPLY RY(theta) AND RETURN THE STATE\n",
    "    qml.RY(theta, wires=0)\n",
    "\n",
    "    return qml.state()\n",
    "\n",
    "\n",
    "# Code for plotting\n",
    "angles = np.linspace(0, 4 * np.pi, 200)\n",
    "output_states = np.array([apply_ry(t, 0) for t in angles])\n",
    "\n",
    "plot = plotter(angles, output_states)"
   ]
  },
  {
   "cell_type": "markdown",
   "metadata": {},
   "source": [
    "### Universal Gate Sets\n",
    "\n",
    "We are introduced to the concept of universal gate sets, which allow us to implement any single-qubit operation using two gates arranged in a specific order."
   ]
  },
  {
   "cell_type": "markdown",
   "metadata": {},
   "source": [
    "#### Codercise I.7.1\n",
    "\n",
    "To use $R_X$ and $R_Z$ to create the $H$ gate, we use $\\theta = \\frac{\\pi}{2}$ for all the gates. **TODO: add derivation**"
   ]
  },
  {
   "cell_type": "code",
   "execution_count": null,
   "metadata": {},
   "outputs": [],
   "source": [
    "dev = qml.device(\"default.qubit\", wires=1)\n",
    "\n",
    "# ADJUST THE VALUES OF PHI, THETA, AND OMEGA\n",
    "phi, theta, omega = np.pi/2, np.pi/2, np.pi/2\n",
    "\n",
    "@qml.qnode(dev)\n",
    "def hadamard_with_rz_rx():\n",
    "    qml.RZ(phi, wires=0)\n",
    "    qml.RX(theta, wires=0)\n",
    "    qml.RZ(omega, wires=0)\n",
    "    return qml.state()"
   ]
  },
  {
   "cell_type": "markdown",
   "metadata": {},
   "source": [
    "#### Codercise I.7.2\n",
    "\n",
    "We first use the $H$ gate that we found in codercise I.7.1. Then, we use the following:\n",
    "\n",
    "$$\n",
    "S = R_Z(\\frac{\\pi}{2}) \\\\\n",
    "T = R_Z(\\frac{\\pi}{4}) \\\\\n",
    "T^\\dag = R_Z(-\\frac{\\pi}{4}) \\\\\n",
    "Y = R_Y(\\pi) = R_X(\\pi)R_Z(\\pi)\n",
    "$$\n",
    "\n",
    "Then, we combine the last $R_Z$ gate of the $H$ gate implementation above and the $R_Z$ gates for $S$ and $T$ to get a transformation of $R_Z(\\frac{3\\pi}{4})$."
   ]
  },
  {
   "cell_type": "code",
   "execution_count": null,
   "metadata": {},
   "outputs": [],
   "source": [
    "dev = qml.device(\"default.qubit\", wires=1)\n",
    "\n",
    "\n",
    "@qml.qnode(dev)\n",
    "def convert_to_rz_rx():\n",
    "    # IMPLEMENT THE CIRCUIT IN THE PICTURE USING ONLY RZ AND RX\n",
    "\n",
    "    qml.RZ(np.pi/2, wires=0)\n",
    "    qml.RX(np.pi/2, wires=0)\n",
    "    qml.RZ(3*np.pi/4, wires=0)\n",
    "    qml.RX(np.pi, wires=0)\n",
    "    qml.RZ(np.pi, wires=0)\n",
    "\n",
    "    return qml.state()"
   ]
  },
  {
   "cell_type": "markdown",
   "metadata": {},
   "source": [
    "#### Codercise I.7.3\n",
    "\n",
    "Using the hint, we realize that $H$ gates cannot be placed sequantially. **TODO**"
   ]
  },
  {
   "cell_type": "code",
   "execution_count": null,
   "metadata": {},
   "outputs": [],
   "source": [
    "dev = qml.device(\"default.qubit\", wires=1)\n",
    "\n",
    "\n",
    "@qml.qnode(dev)\n",
    "def unitary_with_h_and_t():\n",
    "    # APPLY ONLY H AND T TO PRODUCE A CIRCUIT THAT EFFECTS THE GIVEN MATRIX\n",
    "    qml.Hadamard(wires=0)\n",
    "    qml.T(wires=0)\n",
    "    qml.Hadamard(wires=0)\n",
    "    qml.T(wires=0)\n",
    "    qml.T(wires=0)\n",
    "    qml.Hadamard(wires=0)\n",
    "\n",
    "    return qml.state()"
   ]
  },
  {
   "cell_type": "markdown",
   "metadata": {},
   "source": [
    "### Prepare Yourself\n",
    "\n",
    "This chapter introduces the preparation of states."
   ]
  },
  {
   "cell_type": "markdown",
   "metadata": {},
   "source": [
    "#### Codercise I.8.1\n",
    "\n",
    "To create the state \n",
    "$$ |\\psi\\rangle = \\frac{1}{\\sqrt{2}} |0\\rangle + \\frac{1}{\\sqrt{2}} e^{\\frac{5}{4}i \\pi} |1\\rangle$$\n",
    "\n",
    "we will start with the $|0\\rangle$ state and apply the H gate to get \n",
    "$$\\frac{1}{\\sqrt{2}} |0\\rangle + \\frac{1}{\\sqrt{2}} |1\\rangle$$\n",
    "\n",
    "We then apply an RZ gate with angle $\\frac{5}{4} \\pi$ to get \n",
    "$$\\frac{1}{\\sqrt{2}} e^{-\\frac{5}{8}i \\pi} |0\\rangle + \\frac{1}{\\sqrt{2}} e^{\\frac{5}{8}i \\pi} |1\\rangle$$ \n",
    "\n",
    "which is equal to \n",
    "$$e^{-\\frac{5}{8}i \\pi} [\\frac{1}{\\sqrt{2}} |0\\rangle + \\frac{1}{\\sqrt{2}} e^{\\frac{5}{4}i \\pi} |1\\rangle]$$\n",
    "where $e^{-\\frac{5}{8}i \\pi} $ is a global phase."
   ]
  },
  {
   "cell_type": "code",
   "execution_count": null,
   "metadata": {},
   "outputs": [],
   "source": [
    "dev = qml.device(\"default.qubit\", wires=1)\n",
    "\n",
    "\n",
    "@qml.qnode(dev)\n",
    "def prepare_state():\n",
    "    # APPLY OPERATIONS TO PREPARE THE TARGET STATE\n",
    "    qml.Hadamard(wires=0)\n",
    "    qml.RZ(5*np.pi/4, wires=0)\n",
    "\n",
    "    return qml.state()"
   ]
  },
  {
   "cell_type": "markdown",
   "metadata": {},
   "source": [
    "#### Codercise I.8.2\n",
    "\n",
    "Noticing that $RX(\\theta) |0\\rangle= \\cos{\\frac{\\theta}{2}}|0\\rangle - i\\sin{\\frac{\\theta}{2}} |1\\rangle$,\n",
    "we can apply $RX(\\frac{\\pi}{3})$ to get\n",
    "\n",
    "$$\\cos{\\frac{\\pi}{6}}|0\\rangle - i\\sin{\\frac{\\pi}{6}} |1\\rangle = \\frac{\\sqrt{3}}{2}|0\\rangle - i\\frac{1}{2} |1\\rangle$$"
   ]
  },
  {
   "cell_type": "code",
   "execution_count": null,
   "metadata": {},
   "outputs": [],
   "source": [
    "dev = qml.device(\"default.qubit\", wires=1)\n",
    "\n",
    "\n",
    "@qml.qnode(dev)\n",
    "def prepare_state():\n",
    "    # APPLY OPERATIONS TO PREPARE THE TARGET STATE\n",
    "    qml.RX(np.pi/3, wires=0)\n",
    "\n",
    "    return qml.state()"
   ]
  },
  {
   "cell_type": "markdown",
   "metadata": {},
   "source": [
    "#### Codercise I.8.3\n",
    "\n",
    "This is straightforward. We first create the device with `dev = qml.device(\"default.qubit\", wires=1)`, then we prepare the state with the function provided `qml.MottonenStatePreparation` (see [documentation](https://docs.pennylane.ai/en/stable/code/api/pennylane.MottonenStatePreparation.html)) and return the state using `qml.state()`"
   ]
  },
  {
   "cell_type": "code",
   "execution_count": null,
   "metadata": {},
   "outputs": [],
   "source": [
    "v = np.array([0.52889389 - 0.14956775j, 0.67262317 + 0.49545818j])\n",
    "\n",
    "# CREATE A DEVICE\n",
    "dev = qml.device(\"default.qubit\", wires=1)\n",
    "\n",
    "\n",
    "# CONSTRUCT A QNODE THAT USES qml.MottonenStatePreparation\n",
    "# TO PREPARE A QUBIT IN STATE V, AND RETURN THE STATE\n",
    "\n",
    "@qml.qnode(dev)\n",
    "def prepare_state(state=v):\n",
    "    qml.MottonenStatePreparation(state_vector=state, wires=0)\n",
    "    return qml.state()\n",
    "\n",
    "\n",
    "# This will draw the quantum circuit and allow you to inspect the output gates\n",
    "print(prepare_state(v))\n",
    "print()\n",
    "print(qml.draw(prepare_state, expansion_strategy=\"device\")(v))"
   ]
  },
  {
   "cell_type": "markdown",
   "metadata": {},
   "source": [
    "### Measurements\n",
    "\n"
   ]
  },
  {
   "cell_type": "markdown",
   "metadata": {},
   "source": [
    "#### Codercise I.9.1\n",
    "\n",
    "We apply the Hadamard gate as told by the question, then return the probabilities using the provided function `qml.probs(wires=0)`.\n"
   ]
  },
  {
   "cell_type": "code",
   "execution_count": null,
   "metadata": {},
   "outputs": [],
   "source": [
    "dev = qml.device(\"default.qubit\", wires=1)\n",
    "\n",
    "\n",
    "@qml.qnode(dev)\n",
    "def apply_h_and_measure(state):\n",
    "    \"\"\"Complete the function such that we apply the Hadamard gate\n",
    "    and measure in the computational basis.\n",
    "\n",
    "    Args:\n",
    "        state (int): Either 0 or 1. If 1, prepare the qubit in state |1>,\n",
    "            otherwise leave it in state 0.\n",
    "\n",
    "    Returns:\n",
    "        np.array[float]: The measurement outcome probabilities.\n",
    "    \"\"\"\n",
    "    if state == 1:\n",
    "        qml.PauliX(wires=0)\n",
    "\n",
    "    # APPLY HADAMARD AND MEASURE\n",
    "    qml.Hadamard(wires=0)\n",
    "\n",
    "    return qml.probs(wires=0)\n",
    "\n",
    "\n",
    "print(apply_h_and_measure(0))\n",
    "print(apply_h_and_measure(1))"
   ]
  },
  {
   "cell_type": "markdown",
   "metadata": {},
   "source": [
    "#### Codercise I.9.2\n",
    "\n",
    "For simplicity, we can prepare the state using `qml.MottonenStatePreparation` again. Alternatively we can also use the $RX(-\\frac{2\\pi}{3})$ gate.\n",
    "\n",
    "We then apply a Hadamard gate to convert $|0\\rangle$ and $|1\\rangle$ to \n",
    "$$\\frac{1}{\\sqrt{2}} |0\\rangle + \\frac{1}{\\sqrt{2}} |1\\rangle$$\n",
    " and \n",
    "$$\\frac{1}{\\sqrt{2}} |0\\rangle - \\frac{1}{\\sqrt{2}} |1\\rangle$$\n",
    "\n",
    "Since $S|0\\rangle = |0\\rangle$ and $S|1\\rangle = i|1\\rangle$, we also apply an S gate to bring the states to $|y_{+}\\rangle = \\frac{1}{\\sqrt{2}}(|0\\rangle + i |1\\rangle)$ and $|y_{-}\\rangle = \\frac{1}{\\sqrt{2}}(|0\\rangle - i |1\\rangle)$.\n"
   ]
  },
  {
   "cell_type": "code",
   "execution_count": null,
   "metadata": {},
   "outputs": [],
   "source": [
    "# WRITE A QUANTUM FUNCTION THAT PREPARES (1/2)|0> + i(sqrt(3)/2)|1>\n",
    "def prepare_psi():\n",
    "    v = np.array([0.5, np.sqrt(3)* 1j/2])\n",
    "    qml.MottonenStatePreparation(state_vector=v, wires=0)\n",
    "    pass\n",
    "\n",
    "\n",
    "# WRITE A QUANTUM FUNCTION THAT SENDS BOTH |0> TO |y_+> and |1> TO |y_->\n",
    "def y_basis_rotation():\n",
    "    qml.Hadamard(wires=0)\n",
    "    qml.S(wires=0)"
   ]
  },
  {
   "cell_type": "markdown",
   "metadata": {},
   "source": [
    "#### Codercise I.9.3\n",
    "\n",
    "We prepare the state using `prepare_psi()`. In order to measure in the Y basis, we need to rotate the states from the Y basis to the computational basis (which is what we will technically measure in), therefore we will use the `adjoint` of the `y_basis_rotation`."
   ]
  },
  {
   "cell_type": "code",
   "execution_count": null,
   "metadata": {},
   "outputs": [],
   "source": [
    "dev = qml.device(\"default.qubit\", wires=1)\n",
    "\n",
    "\n",
    "@qml.qnode(dev)\n",
    "def measure_in_y_basis():\n",
    "    # PREPARE THE STATE\n",
    "    prepare_psi()\n",
    "\n",
    "    # PERFORM THE ROTATION BACK TO COMPUTATIONAL BASIS\n",
    "    qml.adjoint(y_basis_rotation)()\n",
    "    \n",
    "    # RETURN THE MEASUREMENT OUTCOME PROBABILITIES\n",
    "    return qml.probs(wires=0)\n",
    "\n",
    "\n",
    "print(measure_in_y_basis())"
   ]
  },
  {
   "cell_type": "markdown",
   "metadata": {},
   "source": [
    "### What Did You Expect?\n",
    "\n"
   ]
  },
  {
   "cell_type": "markdown",
   "metadata": {},
   "source": [
    "#### Codercise I.10.1\n",
    "\n",
    "We implement the circuit in the diagram to get the following.\n"
   ]
  },
  {
   "cell_type": "code",
   "execution_count": null,
   "metadata": {},
   "outputs": [],
   "source": [
    "dev = qml.device(\"default.qubit\", wires=1)\n",
    "\n",
    "\n",
    "@qml.qnode(dev)\n",
    "def circuit():\n",
    "    # IMPLEMENT THE CIRCUIT IN THE PICTURE AND MEASURE PAULI Y\n",
    "    qml.RX(np.pi/4, wires=0)\n",
    "    qml.Hadamard(wires=0)\n",
    "    qml.PauliZ(wires=0)\n",
    "\n",
    "    return qml.expval(qml.PauliY(0))\n",
    "\n",
    "\n",
    "print(circuit())"
   ]
  },
  {
   "cell_type": "markdown",
   "metadata": {},
   "source": [
    "#### Codercise I.10.2\n",
    "\n",
    "We can vary the number of shots used by using the variable `shots` from the `for` loop when creating the device through `dev = qml.device(\"default.qubit\", wires=1, shots=shots)`."
   ]
  },
  {
   "cell_type": "code",
   "execution_count": null,
   "metadata": {},
   "outputs": [],
   "source": [
    "# An array to store your results\n",
    "shot_results = []\n",
    "\n",
    "# Different numbers of shots\n",
    "shot_values = [100, 1000, 10000, 100000, 1000000]\n",
    "\n",
    "for shots in shot_values:\n",
    "    # CREATE A DEVICE, CREATE A QNODE, AND RUN IT\n",
    "    dev = qml.device(\"default.qubit\", wires=1, shots=shots)\n",
    "\n",
    "    @qml.qnode(dev)\n",
    "    def circuit():\n",
    "        qml.RX(np.pi/4, wires=0)\n",
    "        qml.Hadamard(wires=0)\n",
    "        qml.PauliZ(wires=0)\n",
    "\n",
    "        return qml.expval(qml.PauliY(0))\n",
    "\n",
    "    # STORE RESULT IN SHOT_RESULTS ARRAY\n",
    "    result = circuit()\n",
    "    shot_results.append(result)\n",
    "\n",
    "print(qml.math.unwrap(shot_results))"
   ]
  },
  {
   "cell_type": "markdown",
   "metadata": {},
   "source": [
    "#### Codercise I.10.3\n",
    "\n",
    "We can return the samples using `qml.sample(qml.PauliY(wires=0))`. For the equation given, we notice that the numerator simply sums the 1s and -1s of our sample results. The number of shots used is given in the code as 100000, so we just divide this sum with 100000."
   ]
  },
  {
   "cell_type": "code",
   "execution_count": null,
   "metadata": {},
   "outputs": [],
   "source": [
    "dev = qml.device(\"default.qubit\", wires=1, shots=100000)\n",
    "\n",
    "\n",
    "@qml.qnode(dev)\n",
    "def circuit():\n",
    "    qml.RX(np.pi / 4, wires=0)\n",
    "    qml.Hadamard(wires=0)\n",
    "    qml.PauliZ(wires=0)\n",
    "\n",
    "    # RETURN THE MEASUREMENT SAMPLES OF THE CORRECT OBSERVABLE\n",
    "\n",
    "    return qml.sample(qml.PauliY(wires=0))\n",
    "\n",
    "\n",
    "def compute_expval_from_samples(samples):\n",
    "    \"\"\"Compute the expectation value of an observable given a set of\n",
    "    sample outputs. You can assume that there are two possible outcomes,\n",
    "    1 and -1.\n",
    "\n",
    "    Args:\n",
    "        samples (np.array[float]): 100000 samples representing the results of\n",
    "            running the above circuit.\n",
    "\n",
    "    Returns:\n",
    "        float: the expectation value computed based on samples.\n",
    "    \"\"\"\n",
    "\n",
    "    estimated_expval = 0\n",
    "\n",
    "    # USE THE SAMPLES TO ESTIMATE THE EXPECTATION VALUE\n",
    "    estimated_expval = sum(samples)/100000\n",
    "\n",
    "    return estimated_expval\n",
    "\n",
    "\n",
    "samples = circuit()\n",
    "print(compute_expval_from_samples(samples))"
   ]
  },
  {
   "cell_type": "markdown",
   "metadata": {},
   "source": [
    "#### Codercise I.10.4\n",
    "\n",
    "We create the device with a variable `n_shots`. We know that the population mean for the expectation value is 0 since our state is \n",
    "\n",
    "$$\\frac{1}{\\sqrt{2}} |0\\rangle + \\frac{1}{\\sqrt{2}} |1\\rangle$$\n",
    "\n",
    "and we have an equal chance of measuring 1 or -1.\n",
    "\n",
    "We then find the expectation value of each trial using `exp_val = circuit()`. We then sum the variance from each trial, suing the formula $(x_i - \\bar{x})^2$ which is equal to `exp_val**2` since $\\bar{x} = 0$. We then find the variance by dividing by the number of trials.\n",
    "\n",
    "From the graph, we can then estimate the variance to follow `1/n_shots`.\n"
   ]
  },
  {
   "cell_type": "code",
   "execution_count": null,
   "metadata": {},
   "outputs": [],
   "source": [
    "def variance_experiment(n_shots):\n",
    "    \"\"\"Run an experiment to determine the variance in an expectation\n",
    "    value computed with a given number of shots.\n",
    "\n",
    "    Args:\n",
    "        n_shots (int): The number of shots\n",
    "\n",
    "    Returns:\n",
    "        float: The variance in expectation value we obtain running the\n",
    "        circuit 100 times with n_shots shots each.\n",
    "    \"\"\"\n",
    "\n",
    "    # To obtain a variance, we run the circuit multiple times at each shot value.\n",
    "    n_trials = 100\n",
    "\n",
    "    # CREATE A DEVICE WITH GIVEN NUMBER OF SHOTS\n",
    "    dev = qml.device(\"default.qubit\", wires=1, shots=n_shots)\n",
    "\n",
    "    # DECORATE THE CIRCUIT BELOW TO CREATE A QNODE\n",
    "    @qml.qnode(dev)\n",
    "    def circuit():\n",
    "        qml.Hadamard(wires=0)\n",
    "        return qml.expval(qml.PauliZ(wires=0))\n",
    "\n",
    "    # RUN THE QNODE N_TRIALS TIMES AND RETURN THE VARIANCE OF THE RESULTS\n",
    "    summed_variance = 0\n",
    "    for _ in range(n_trials):\n",
    "        exp_val = circuit()\n",
    "        summed_variance += exp_val**2\n",
    "    return summed_variance/n_trials\n",
    "\n",
    "\n",
    "def variance_scaling(n_shots):\n",
    "    \"\"\"Once you have determined how the variance in expectation value scales\n",
    "    with the number of shots, complete this function to programmatically\n",
    "    represent the relationship.\n",
    "\n",
    "    Args:\n",
    "        n_shots (int): The number of shots\n",
    "\n",
    "    Returns:\n",
    "        float: The variance in expectation value we expect to see when we run\n",
    "        an experiment with n_shots shots.\n",
    "    \"\"\"\n",
    "\n",
    "    estimated_variance = 0\n",
    "\n",
    "    # ESTIMATE THE VARIANCE BASED ON SHOT NUMBER\n",
    "    estimated_variance = 1/n_shots\n",
    "    return estimated_variance\n",
    "\n",
    "\n",
    "# Various numbers of shots; you can change this\n",
    "shot_vals = [10, 20, 40, 100, 200, 400, 1000, 2000, 4000]\n",
    "\n",
    "# Used to plot your results\n",
    "results_experiment = [variance_experiment(shots) for shots in shot_vals]\n",
    "results_scaling = [variance_scaling(shots) for shots in shot_vals]\n",
    "plot = plotter(shot_vals, results_experiment, results_scaling)"
   ]
  },
  {
   "cell_type": "markdown",
   "metadata": {},
   "source": [
    "## Circuits with Many Qubits\n",
    "\n"
   ]
  },
  {
   "cell_type": "markdown",
   "metadata": {},
   "source": [
    "### Multi-Qubit Systems\n",
    "\n"
   ]
  },
  {
   "cell_type": "markdown",
   "metadata": {},
   "source": [
    "#### Codercise I.11.1\n",
    "\n",
    "We first find the binary representation of `basis_id` using np.binary_repr(basis_id, width=3). Since in PennyLane, qubits are indexed numerically from left to right, we then enumerate through the binary representation string and apply the X gate when the string has a \"1\" value.\n",
    "\n"
   ]
  },
  {
   "cell_type": "code",
   "execution_count": null,
   "metadata": {},
   "outputs": [],
   "source": [
    "num_wires = 3\n",
    "dev = qml.device(\"default.qubit\", wires=num_wires)\n",
    "\n",
    "\n",
    "@qml.qnode(dev)\n",
    "def make_basis_state(basis_id):\n",
    "    \"\"\"Produce the 3-qubit basis state corresponding to |basis_id>.\n",
    "\n",
    "    Note that the system starts in |000>.\n",
    "\n",
    "    Args:\n",
    "        basis_id (int): An integer value identifying the basis state to construct.\n",
    "\n",
    "    Returns:\n",
    "        np.array[complex]: The computational basis state |basis_id>.\n",
    "    \"\"\"\n",
    "\n",
    "    # CREATE THE BASIS STATE\n",
    "    bin_repr = np.binary_repr(basis_id, width=3)\n",
    "    for i, val in enumerate(bin_repr):\n",
    "        if val == '1':\n",
    "            qml.PauliX(i)\n",
    "    return qml.state()\n",
    "\n",
    "\n",
    "basis_id = 3\n",
    "print(f\"Output state = {make_basis_state(basis_id)}\")"
   ]
  },
  {
   "cell_type": "markdown",
   "metadata": {},
   "source": [
    "#### Codercise I.11.2\n",
    "\n",
    "We note that in PennyLane, qubits are indexed numerically from left to right. We prepare the state $|+ 1\\rangle = |+\\rangle \\otimes |1\\rangle$ by applying the H gate on the first qubit to get the $|+\\rangle$ state and the X gate on the second qubit to get the $|1\\rangle$ state. We then return the expectation values as asked.\n"
   ]
  },
  {
   "cell_type": "code",
   "execution_count": null,
   "metadata": {},
   "outputs": [],
   "source": [
    "# Creates a device with *two* qubits\n",
    "dev = qml.device(\"default.qubit\", wires=2)\n",
    "\n",
    "\n",
    "@qml.qnode(dev)\n",
    "def two_qubit_circuit():\n",
    "    # PREPARE |+>|1>\n",
    "    qml.Hadamard(0)\n",
    "    qml.PauliX(1)\n",
    "\n",
    "    # RETURN TWO EXPECTATION VALUES, Y ON FIRST QUBIT, Z ON SECOND QUBIT\n",
    "\n",
    "    return qml.expval(qml.PauliY(0)), qml.expval(qml.PauliZ(1))\n",
    "\n",
    "print(two_qubit_circuit())"
   ]
  },
  {
   "cell_type": "markdown",
   "metadata": {},
   "source": [
    "#### Codercise I.11.3\n",
    "\n",
    "We prepare the state $|1\\rangle |-\\rangle$, then we measure teh expectation value using the two-qubit observable $Z \\otimes X$ with `qml.expval(qml.PauliZ(0) @ qml.PauliX(1))`."
   ]
  },
  {
   "cell_type": "code",
   "execution_count": null,
   "metadata": {},
   "outputs": [],
   "source": [
    "dev = qml.device(\"default.qubit\", wires=2)\n",
    "\n",
    "\n",
    "@qml.qnode(dev)\n",
    "def create_one_minus():\n",
    "    # PREPARE |1>|->\n",
    "    qml.PauliX(0)\n",
    "    qml.PauliX(1)\n",
    "    qml.Hadamard(1)\n",
    "    \n",
    "    # RETURN A SINGLE EXPECTATION VALUE Z \\otimes X\n",
    "\n",
    "    return qml.expval(qml.PauliZ(0) @ qml.PauliX(1))\n",
    "\n",
    "\n",
    "print(create_one_minus())"
   ]
  },
  {
   "cell_type": "markdown",
   "metadata": {},
   "source": [
    "#### Codercise I.11.4\n",
    "\n",
    "We create the circuits as shown. \n",
    "\n",
    "In the first circuit, we find the expection values of $Z \\otimes I$ and $I \\otimes Z$, This is the same as simply finding the expectation value of Z on the first qubit and the expectation value of Z on the second qubit, since the expectation value of the identity gate I is always 1.\n",
    "\n",
    "In the second circuit, we find the expectation value of $Z \\otimes Z$. Using the hint to consider how the observables themselves are related, as well as the plot, we can guess that the the expectation value of $Z \\otimes Z$ is the expectation value of $Z \\otimes I$ multiplied by that of $I \\otimes Z$."
   ]
  },
  {
   "cell_type": "code",
   "execution_count": null,
   "metadata": {},
   "outputs": [],
   "source": [
    "dev = qml.device(\"default.qubit\", wires=2)\n",
    "\n",
    "\n",
    "@qml.qnode(dev)\n",
    "def circuit_1(theta):\n",
    "    \"\"\"Implement the circuit and measure Z I and I Z.\n",
    "\n",
    "    Args:\n",
    "        theta (float): a rotation angle.\n",
    "\n",
    "    Returns:\n",
    "        float, float: The expectation values of the observables Z I, and I Z\n",
    "    \"\"\"\n",
    "    qml.RX(theta, wires=0)\n",
    "    qml.RY(2 * theta, wires=1)\n",
    "\n",
    "    return qml.expval(qml.PauliZ(wires=0)), qml.expval(qml.PauliZ(wires=1))\n",
    "\n",
    "\n",
    "@qml.qnode(dev)\n",
    "def circuit_2(theta):\n",
    "    \"\"\"Implement the circuit and measure Z Z.\n",
    "\n",
    "    Args:\n",
    "        theta (float): a rotation angle.\n",
    "\n",
    "    Returns:\n",
    "        float: The expectation value of the observable Z Z\n",
    "    \"\"\"\n",
    "\n",
    "    qml.RX(theta, wires=0)\n",
    "    qml.RY(2 * theta, wires=1)\n",
    "\n",
    "    return qml.expval(qml.PauliZ(wires=0) @ qml.PauliZ(wires=1))\n",
    "\n",
    "\n",
    "def zi_iz_combination(ZI_results, IZ_results):\n",
    "    \"\"\"Implement a function that acts on the ZI and IZ results to\n",
    "    produce the ZZ results. How do you think they should combine?\n",
    "\n",
    "    Args:\n",
    "        ZI_results (np.array[float]): Results from the expectation value of\n",
    "            ZI in circuit_1.\n",
    "        IZ_results (np.array[float]): Results from the expectation value of\n",
    "            IZ in circuit_2.\n",
    "\n",
    "    Returns:\n",
    "        np.array[float]: A combination of ZI_results and IZ_results that\n",
    "        produces results equivalent to measuring ZZ.\n",
    "    \"\"\"\n",
    "\n",
    "    combined_results = ZI_results * IZ_results\n",
    "\n",
    "    return combined_results\n",
    "\n",
    "\n",
    "theta = np.linspace(0, 2 * np.pi, 100)\n",
    "\n",
    "# Run circuit 1, and process the results\n",
    "circuit_1_results = np.array([circuit_1(t) for t in theta])\n",
    "\n",
    "ZI_results = circuit_1_results[:, 0]\n",
    "IZ_results = circuit_1_results[:, 1]\n",
    "combined_results = zi_iz_combination(ZI_results, IZ_results)\n",
    "\n",
    "# Run circuit 2\n",
    "ZZ_results = np.array([circuit_2(t) for t in theta])\n",
    "\n",
    "# Plot your results\n",
    "plot = plotter(theta, ZI_results, IZ_results, ZZ_results, combined_results)"
   ]
  },
  {
   "cell_type": "markdown",
   "metadata": {},
   "source": [
    "### All Tied Up\n",
    "\n"
   ]
  },
  {
   "cell_type": "markdown",
   "metadata": {},
   "source": [
    "#### Codercise I.12.1\n",
    "\n",
    "We can either fill up the logic table using logic, or with the function `apply_cnot(basis_id)` and changing the inputs of `apply_cnot()`."
   ]
  },
  {
   "cell_type": "code",
   "execution_count": null,
   "metadata": {},
   "outputs": [],
   "source": [
    "num_wires = 2\n",
    "dev = qml.device(\"default.qubit\", wires=num_wires)\n",
    "\n",
    "\n",
    "@qml.qnode(dev)\n",
    "def apply_cnot(basis_id):\n",
    "    \"\"\"Apply a CNOT to |basis_id>.\n",
    "\n",
    "    Args:\n",
    "        basis_id (int): An integer value identifying the basis state to construct.\n",
    "\n",
    "    Returns:\n",
    "        np.array[complex]: The resulting state after applying CNOT|basis_id>.\n",
    "    \"\"\"\n",
    "\n",
    "    # Prepare the basis state |basis_id>\n",
    "    bits = [int(x) for x in np.binary_repr(basis_id, width=num_wires)]\n",
    "    qml.BasisStatePreparation(bits, wires=[0, 1])\n",
    "\n",
    "    # APPLY THE CNOT\n",
    "    qml.CNOT(wires=[0, 1])\n",
    "\n",
    "    return qml.state()\n",
    "\n",
    "# REPLACE THE BIT STRINGS VALUES BELOW WITH THE CORRECT ONES\n",
    "cnot_truth_table = {\"00\": \"00\", \"01\": \"01\", \"10\": \"11\", \"11\": \"10\"}\n",
    "\n",
    "\n",
    "# Run your QNode with various inputs to help fill in your truth table\n",
    "print(apply_cnot(0))"
   ]
  },
  {
   "cell_type": "markdown",
   "metadata": {},
   "source": [
    "#### Codercise I.12.2\n",
    "\n"
   ]
  },
  {
   "cell_type": "markdown",
   "metadata": {},
   "source": [
    "We implement the circuit as shown. It is entangled since the two qubits always have the same state, therefore it is no longer factorizable into two separate qubits."
   ]
  },
  {
   "cell_type": "code",
   "execution_count": null,
   "metadata": {},
   "outputs": [],
   "source": [
    "dev = qml.device(\"default.qubit\", wires=2)\n",
    "\n",
    "\n",
    "@qml.qnode(dev)\n",
    "def apply_h_cnot():\n",
    "    # APPLY THE OPERATIONS IN THE CIRCUIT\n",
    "    qml.Hadamard(wires=0)\n",
    "    qml.CNOT(wires=[0, 1])\n",
    "\n",
    "    return qml.state()\n",
    "\n",
    "\n",
    "print(apply_h_cnot())\n",
    "\n",
    "# SET THIS AS 'separable' OR 'entangled' BASED ON YOUR OUTCOME\n",
    "state_status = \"entangled\""
   ]
  },
  {
   "cell_type": "markdown",
   "metadata": {},
   "source": [
    "#### Codercise I.12.3\n",
    "\n",
    "We implement the circuit as shown by applying the gates."
   ]
  },
  {
   "cell_type": "code",
   "execution_count": null,
   "metadata": {},
   "outputs": [],
   "source": [
    "dev = qml.device(\"default.qubit\", wires=3)\n",
    "\n",
    "\n",
    "@qml.qnode(dev)\n",
    "def controlled_rotations(theta, phi, omega):\n",
    "    \"\"\"Implement the circuit above and return measurement outcome probabilities.\n",
    "\n",
    "    Args:\n",
    "        theta (float): A rotation angle\n",
    "        phi (float): A rotation angle\n",
    "        omega (float): A rotation angle\n",
    "\n",
    "    Returns:\n",
    "        np.array[float]: Measurement outcome probabilities of the 3-qubit\n",
    "        computational basis states.\n",
    "    \"\"\"\n",
    "\n",
    "    # APPLY THE OPERATIONS IN THE CIRCUIT AND RETURN MEASUREMENT PROBABILITIES\n",
    "    qml.Hadamard(wires=0)\n",
    "    qml.CRX(theta, wires=[0, 1])\n",
    "    qml.CRY(phi, wires=[1, 2])\n",
    "    qml.CRZ(omega, wires=[2, 0])\n",
    "    return qml.probs(wires=range(3))\n",
    "\n",
    "\n",
    "theta, phi, omega = 0.1, 0.2, 0.3\n",
    "print(controlled_rotations(theta, phi, omega))"
   ]
  },
  {
   "cell_type": "markdown",
   "metadata": {},
   "source": [
    "### We've Got It Under Control\n",
    "\n"
   ]
  },
  {
   "cell_type": "markdown",
   "metadata": {},
   "source": [
    "#### Codercise I.13.1\n",
    "\n",
    "We implement the regular CZ gate first. We then implement the `imposter_cz`, using the knowlege that a Z gate is the same as applying HXH on the qubit. We apply the H gate on the target qubit, then a CX gate, then a H gate again on the target qubit. If the CX gate's control is 1, then this effectively applies a Z gate on the target qubit. \n",
    "\n",
    "If the control is 0, the X gate is not applied on the target qubit and since the H gate is its own inverse, the second H gate will reverse the first H gate and return the original state of the target qubit."
   ]
  },
  {
   "cell_type": "code",
   "execution_count": null,
   "metadata": {},
   "outputs": [],
   "source": [
    "dev = qml.device(\"default.qubit\", wires=2)\n",
    "\n",
    "# Prepare a two-qubit state; change up the angles if you like\n",
    "phi, theta, omega = 1.2, 2.3, 3.4\n",
    "\n",
    "\n",
    "@qml.qnode(device=dev)\n",
    "def true_cz(phi, theta, omega):\n",
    "    prepare_states(phi, theta, omega)\n",
    "\n",
    "    # IMPLEMENT THE REGULAR CZ GATE HERE\n",
    "    qml.CZ(wires=[0, 1])\n",
    "\n",
    "    return qml.state()\n",
    "\n",
    "\n",
    "@qml.qnode(dev)\n",
    "def imposter_cz(phi, theta, omega):\n",
    "    prepare_states(phi, theta, omega)\n",
    "\n",
    "    # IMPLEMENT CZ USING ONLY H AND CNOT\n",
    "    qml.Hadamard(1)\n",
    "    qml.CNOT(wires=[0, 1])\n",
    "    qml.Hadamard(1)\n",
    "\n",
    "    return qml.state()\n",
    "\n",
    "\n",
    "print(f\"True CZ output state {true_cz(phi, theta, omega)}\")\n",
    "print(f\"Imposter CZ output state {imposter_cz(phi, theta, omega)}\")"
   ]
  },
  {
   "cell_type": "markdown",
   "metadata": {},
   "source": [
    "#### Codercise I.13.2\n",
    "\n",
    "In the information section of this task, it is shown how three CNOT gates can be used to implement a SWAP gate, which we have implemented here.\n",
    "\n"
   ]
  },
  {
   "cell_type": "code",
   "execution_count": null,
   "metadata": {},
   "outputs": [],
   "source": [
    "dev = qml.device(\"default.qubit\", wires=2)\n",
    "\n",
    "# Prepare a two-qubit state; change up the angles if you like\n",
    "phi, theta, omega = 1.2, 2.3, 3.4\n",
    "\n",
    "\n",
    "@qml.qnode(dev)\n",
    "def apply_swap(phi, theta, omega):\n",
    "    prepare_states(phi, theta, omega)\n",
    "\n",
    "    # IMPLEMENT THE REGULAR SWAP GATE HERE\n",
    "    qml.SWAP(wires=[0, 1])\n",
    "    return qml.state()\n",
    "\n",
    "\n",
    "@qml.qnode(dev)\n",
    "def apply_swap_with_cnots(phi, theta, omega):\n",
    "    prepare_states(phi, theta, omega)\n",
    "\n",
    "    # IMPLEMENT THE SWAP GATE USING A SEQUENCE OF CNOTS\n",
    "    qml.CNOT(wires=[0, 1])\n",
    "    qml.CNOT(wires=[1, 0])\n",
    "    qml.CNOT(wires=[0, 1])\n",
    "\n",
    "    return qml.state()\n",
    "\n",
    "\n",
    "print(f\"Regular SWAP state = {apply_swap(phi, theta, omega)}\")\n",
    "print(f\"CNOT SWAP state = {apply_swap_with_cnots(phi, theta, omega)}\")"
   ]
  },
  {
   "cell_type": "markdown",
   "metadata": {},
   "source": [
    "#### Codercise I.13.3\n",
    "\n",
    "Consider the previous exercise where 3 CNOT gates were used to form a SWAP gate. The Toffoli gate is a CCX gate where another qubit is used as a control. The X is applied on the target qubit when both the control qubits have state 1. Therefore, we can use the Toffoli gate to create a controlled-SWAP gate. Each of the original CNOT gates above now have an additional control qubit (index 0) which is the control qubit of this controlled-SWAP gate.\n",
    "\n"
   ]
  },
  {
   "cell_type": "code",
   "execution_count": null,
   "metadata": {},
   "outputs": [],
   "source": [
    "dev = qml.device(\"default.qubit\", wires=3)\n",
    "\n",
    "# Prepare first qubit in |1>, and arbitrary states on the second two qubits\n",
    "phi, theta, omega = 1.2, 2.3, 3.4\n",
    "\n",
    "\n",
    "# A helper function just so you can visualize the initial state\n",
    "# before the controlled SWAP occurs.\n",
    "@qml.qnode(dev)\n",
    "def no_swap(phi, theta, omega):\n",
    "    prepare_states(phi, theta, omega)\n",
    "    return qml.state()\n",
    "\n",
    "\n",
    "@qml.qnode(dev)\n",
    "def controlled_swap(phi, theta, omega):\n",
    "    prepare_states(phi, theta, omega)\n",
    "\n",
    "    # PERFORM A CONTROLLED SWAP USING A SEQUENCE OF TOFFOLIS\n",
    "    qml.Toffoli(wires=[0, 1, 2])\n",
    "    qml.Toffoli(wires=[0, 2, 1])\n",
    "    qml.Toffoli(wires=[0, 1, 2])\n",
    "\n",
    "    return qml.state()\n",
    "\n",
    "\n",
    "print(no_swap(phi, theta, omega))\n",
    "print(controlled_swap(phi, theta, omega))"
   ]
  },
  {
   "cell_type": "markdown",
   "metadata": {},
   "source": [
    "#### Codercise I.13.4\n",
    "\n",
    "We implement the circuit as shown in the diagram. We utilise the given function `qml.MultiControlledX`. The variable `control_wires=[0, 1, 2]` tells us which wires are used as the control, and the state controlled for is `control_values=\"001\"`. The variable `wires=3` means that the X gate will be applied on wire/qubit 3 when the control qubits fulfil the condition."
   ]
  },
  {
   "cell_type": "code",
   "execution_count": null,
   "metadata": {},
   "outputs": [],
   "source": [
    "dev = qml.device(\"default.qubit\", wires=4)\n",
    "\n",
    "\n",
    "@qml.qnode(dev)\n",
    "def four_qubit_mcx():\n",
    "    # IMPLEMENT THE CIRCUIT ABOVE USING A 4-QUBIT MULTI-CONTROLLED X\n",
    "    qml.Hadamard(wires=0)\n",
    "    qml.Hadamard(wires=1)\n",
    "    qml.Hadamard(wires=2)\n",
    "    qml.MultiControlledX(control_wires=[0, 1, 2], wires=3, control_values=\"001\")\n",
    "\n",
    "    return qml.state()\n",
    "\n",
    "\n",
    "print(four_qubit_mcx())"
   ]
  },
  {
   "cell_type": "markdown",
   "metadata": {},
   "source": [
    "#### Codercise I.13.5\n",
    "\n",
    "Qubit 3 is the auxiliary qubit. We compute the AND of qubits 0 and 1 and store it in this qubit 3 using `qml.Toffoli(wires=[0, 1, 3])`. We then compute the AND of qubits 2 and the auxiliary qubit 3 to find the AND of qubits 0, 1 and 2, and the result controls the X gate on the target qubit 4, through `qml.Toffoli(wires=[2, 3, 4])`. We then reverse the action on the auxiliary qubit using `qml.Toffoli(wires=[0, 1, 3])` again to ensure the qubit returns to its original state."
   ]
  },
  {
   "cell_type": "code",
   "execution_count": null,
   "metadata": {},
   "outputs": [],
   "source": [
    "# Wires 0, 1, 2 are the control qubits\n",
    "# Wire 3 is the auxiliary qubit\n",
    "# Wire 4 is the target\n",
    "dev = qml.device(\"default.qubit\", wires=5)\n",
    "\n",
    "\n",
    "@qml.qnode(dev)\n",
    "def four_qubit_mcx_only_tofs():\n",
    "    # We will initialize the control qubits in state |1> so you can see\n",
    "    # how the output state gets changed.\n",
    "    qml.PauliX(wires=0)\n",
    "    qml.PauliX(wires=1)\n",
    "    qml.PauliX(wires=2)\n",
    "\n",
    "    # IMPLEMENT A 3-CONTROLLED NOT WITH TOFFOLIS\n",
    "    qml.Toffoli(wires=[0, 1, 3])\n",
    "    qml.Toffoli(wires=[2, 3, 4])\n",
    "    qml.Toffoli(wires=[0, 1, 3])\n",
    "    \n",
    "    return qml.state()\n",
    "\n",
    "\n",
    "print(four_qubit_mcx_only_tofs())"
   ]
  },
  {
   "cell_type": "markdown",
   "metadata": {},
   "source": [
    "### Multi-Qubit Gate Challenge\n",
    "\n"
   ]
  },
  {
   "cell_type": "markdown",
   "metadata": {},
   "source": [
    "#### Codercise I.14.1\n",
    "\n",
    "We create the standard 4 Bell states by varying the X gates applied.\n",
    "\n"
   ]
  },
  {
   "cell_type": "code",
   "execution_count": null,
   "metadata": {},
   "outputs": [],
   "source": [
    "dev = qml.device(\"default.qubit\", wires=2)\n",
    "\n",
    "# Starting from the state |00>, implement a PennyLane circuit\n",
    "# to construct each of the Bell basis states.\n",
    "\n",
    "\n",
    "@qml.qnode(dev)\n",
    "def prepare_psi_plus():\n",
    "    # PREPARE (1/sqrt(2)) (|00> + |11>)\n",
    "    qml.Hadamard(wires=0)\n",
    "    qml.CNOT(wires=[0, 1])\n",
    "\n",
    "    return qml.state()\n",
    "\n",
    "\n",
    "@qml.qnode(dev)\n",
    "def prepare_psi_minus():\n",
    "    # PREPARE (1/sqrt(2)) (|00> - |11>)\n",
    "    qml.PauliX(wires=0)\n",
    "    qml.Hadamard(wires=0)\n",
    "    qml.CNOT(wires=[0, 1])\n",
    "\n",
    "    return qml.state()\n",
    "\n",
    "\n",
    "@qml.qnode(dev)\n",
    "def prepare_phi_plus():\n",
    "    # PREPARE  (1/sqrt(2)) (|01> + |10>)\n",
    "    qml.Hadamard(wires=0)\n",
    "    qml.PauliX(wires=1)\n",
    "    qml.CNOT(wires=[0, 1])\n",
    "\n",
    "    return qml.state()\n",
    "\n",
    "\n",
    "@qml.qnode(dev)\n",
    "def prepare_phi_minus():\n",
    "\n",
    "    # PREPARE  (1/sqrt(2)) (|01> - |10>)\n",
    "    qml.PauliX(wires=0)\n",
    "    qml.Hadamard(wires=0)\n",
    "    qml.PauliX(wires=1)\n",
    "    qml.CNOT(wires=[0, 1])\n",
    "\n",
    "    return qml.state()\n",
    "\n",
    "\n",
    "psi_plus = prepare_psi_plus()\n",
    "psi_minus = prepare_psi_minus()\n",
    "phi_plus = prepare_phi_plus()\n",
    "phi_minus = prepare_phi_minus()\n",
    "\n",
    "# Uncomment to print results\n",
    "# print(f\"|ψ_+> = {psi_plus}\")\n",
    "# print(f\"|ψ_-> = {psi_minus}\")\n",
    "# print(f\"|ϕ_+> = {phi_plus}\")\n",
    "# print(f\"|ϕ_-> = {phi_minus}\")"
   ]
  },
  {
   "cell_type": "markdown",
   "metadata": {},
   "source": [
    "#### Codercise I.14.2\n",
    "\n",
    "For the first case, we apply an $X$ gate on the first qubit and then a Toffoli gate with the target on the third qubit, then another $X$ gate on the first qubit to reverse the first gate. If and only if the state of the first two qubits is 01, this applies an $X$ gate on the third qubit. The state of the first two qubits remain unchanged in either case.\n",
    "\n",
    "For the second case, we note that the $Z$ gate is the same as applying $HXH$. In order to test for the 10 state, we apply an $X$ gate on the second qubit (index 1), similar to the first case. We then apply a $H$ gate on the target qubit, and a Toffoli gate. If the Toffoli gate applies the $X$ gate on the target qubit, then the second $H$ gate completes the controlled-$Z$ gate, if not the second $H$ gate reverses the first $H$ gate to return the target qubit to its original state. We apply another $X$ gate after this to reverse the first $X$ gate.\n",
    "\n",
    "For the third case, we note that the $S^\\dag X S$ converts an $X$ gate to a $Y$ gate. We implement this, replacing the $X$ gate with the Toffoli so that this $Y$ gate is controlled by the first two qubits. If the first two qubits are not in the state \"11\", the second $S$ gate simply reverses the $S^\\dag$ gate\n"
   ]
  },
  {
   "cell_type": "code",
   "execution_count": null,
   "metadata": {},
   "outputs": [],
   "source": [
    "dev = qml.device(\"default.qubit\", wires=3)\n",
    "\n",
    "# State of first 2 qubits\n",
    "state = [0, 1]\n",
    "\n",
    "\n",
    "@qml.qnode(device=dev)\n",
    "def apply_control_sequence(state):\n",
    "    # Set up initial state of the first two qubits\n",
    "    if state[0] == 1:\n",
    "        qml.PauliX(wires=0)\n",
    "    if state[1] == 1:\n",
    "        qml.PauliX(wires=1)\n",
    "\n",
    "    # Set up initial state of the third qubit - use |->\n",
    "    # so we can see the effect on the output\n",
    "    qml.PauliX(wires=2)\n",
    "    qml.Hadamard(wires=2)\n",
    "\n",
    "    # IMPLEMENT THE MULTIPLEXER\n",
    "    # IF STATE OF FIRST TWO QUBITS IS 01, APPLY X TO THIRD QUBIT\n",
    "    qml.PauliX(wires=0)\n",
    "    qml.Toffoli(wires=[0, 1, 2])\n",
    "    qml.PauliX(wires=0)\n",
    "\n",
    "    # IF STATE OF FIRST TWO QUBITS IS 10, APPLY Z TO THIRD QUBIT\n",
    "    qml.PauliX(wires=1)\n",
    "    qml.Hadamard(wires=2)\n",
    "    qml.Toffoli(wires=[0, 1, 2])\n",
    "    qml.Hadamard(wires=2)\n",
    "    qml.PauliX(wires=1)\n",
    "\n",
    "    # IF STATE OF FIRST TWO QUBITS IS 11, APPLY Y TO THIRD QUBIT\n",
    "    qml.adjoint(qml.S)(wires=2)\n",
    "    qml.Toffoli(wires=[0, 1, 2])\n",
    "    qml.S(wires=2)\n",
    "    \n",
    "    return qml.state()\n",
    "\n",
    "\n",
    "print(apply_control_sequence(state))"
   ]
  }
 ],
 "metadata": {
  "kernelspec": {
   "display_name": "qiskit-venv",
   "language": "python",
   "name": "python3"
  },
  "language_info": {
   "codemirror_mode": {
    "name": "ipython",
    "version": 3
   },
   "file_extension": ".py",
   "mimetype": "text/x-python",
   "name": "python",
   "nbconvert_exporter": "python",
   "pygments_lexer": "ipython3",
   "version": "3.11.6"
  }
 },
 "nbformat": 4,
 "nbformat_minor": 2
}
